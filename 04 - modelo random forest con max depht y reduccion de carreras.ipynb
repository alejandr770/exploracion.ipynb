{
  "cells": [
    {
      "cell_type": "markdown",
      "metadata": {
        "id": "D6yIHHU2p-EF"
      },
      "source": [
        "# 01.01 - PROYECTO KAGGLE"
      ]
    },
    {
      "cell_type": "markdown",
      "metadata": {
        "id": "CdkWz0856v-Z"
      },
      "source": [
        "## download data directly from Kaggle\n",
        "\n",
        "- create a file `kaggle.json` with your authentication token (in kaggle $\\to$ click user icon on top-right $\\to$ settings $\\to$ API create new token)\n",
        "- upload it to this notebook workspace\n",
        "- run the following cell"
      ]
    },
    {
      "cell_type": "code",
      "execution_count": 16,
      "metadata": {
        "colab": {
          "base_uri": "https://localhost:8080/"
        },
        "id": "HJ8jqq-FqPUB",
        "outputId": "170c3299-2c74-45e7-ce42-f745ca831574"
      },
      "outputs": [
        {
          "output_type": "stream",
          "name": "stdout",
          "text": [
            "Downloading udea-ai4eng-20242.zip to /content\n",
            "\r  0% 0.00/20.1M [00:00<?, ?B/s]\r 25% 5.00M/20.1M [00:00<00:00, 44.9MB/s]\r 94% 19.0M/20.1M [00:00<00:00, 100MB/s] \n",
            "\r100% 20.1M/20.1M [00:00<00:00, 88.0MB/s]\n"
          ]
        }
      ],
      "source": [
        "import os\n",
        "os.environ['KAGGLE_CONFIG_DIR'] = '.'\n",
        "!chmod 600 ./kaggle.json\n",
        "!kaggle competitions download -c udea-ai4eng-20242"
      ]
    },
    {
      "cell_type": "code",
      "execution_count": 17,
      "metadata": {
        "colab": {
          "base_uri": "https://localhost:8080/"
        },
        "id": "qn5epprEwQgw",
        "outputId": "d5365a0d-1d78-43e4-9d55-18452e0c4564"
      },
      "outputs": [
        {
          "output_type": "stream",
          "name": "stdout",
          "text": [
            "Drive already mounted at /content/drive; to attempt to forcibly remount, call drive.mount(\"/content/drive\", force_remount=True).\n"
          ]
        }
      ],
      "source": [
        "from google.colab import drive\n",
        "drive.mount('/content/drive')"
      ]
    },
    {
      "cell_type": "markdown",
      "metadata": {
        "id": "_DFu9Pgx7n4V"
      },
      "source": [
        "## unzip and inspect data"
      ]
    },
    {
      "cell_type": "code",
      "execution_count": 18,
      "metadata": {
        "id": "WE2IYDHKqPYv"
      },
      "outputs": [],
      "source": [
        "!unzip udea*.zip > /dev/null"
      ]
    },
    {
      "cell_type": "markdown",
      "metadata": {
        "id": "vQacFVFN8Lok"
      },
      "source": [
        "## load `train.csv` data with pandas\n",
        "\n"
      ]
    },
    {
      "cell_type": "code",
      "execution_count": 19,
      "metadata": {
        "id": "9bitCKLB74cC"
      },
      "outputs": [],
      "source": [
        "import pandas as pd\n",
        "import numpy as np\n",
        "import seaborn as sns\n",
        "import matplotlib.pyplot as plt\n",
        "import pandas as pd\n",
        "from sklearn.model_selection import train_test_split\n",
        "from sklearn.ensemble import RandomForestClassifier\n",
        "from sklearn.metrics import accuracy_score\n",
        "from sklearn.linear_model import LogisticRegression\n",
        "from sklearn.ensemble import RandomForestClassifier\n",
        "from sklearn.preprocessing import LabelEncoder\n",
        "from sklearn.metrics import confusion_matrix\n",
        "from sklearn.impute import SimpleImputer\n",
        "from sklearn.impute import KNNImputer\n",
        "from sklearn.utils import resample\n",
        "import unicodedata\n"
      ]
    },
    {
      "cell_type": "code",
      "execution_count": 20,
      "metadata": {
        "id": "T_ZgtSZ04chi"
      },
      "outputs": [],
      "source": [
        "trainKaggle = pd.read_csv(\"train.csv\")\n",
        "testKaggle = pd.read_csv(\"test.csv\")"
      ]
    },
    {
      "cell_type": "markdown",
      "metadata": {
        "id": "RMdfuu0jsZyz"
      },
      "source": [
        "## visualización de las columnas y algunos registros"
      ]
    },
    {
      "cell_type": "markdown",
      "metadata": {
        "id": "wfGMD3GotG9y"
      },
      "source": [
        "# Visualización de las columnas y su distribución\n",
        "\n",
        "nota: dado el desbalanceo en la cantidad de categorias para algunas columnas, y para mantener una correcta visualización, decidimos mostrar algunas columnas en plots plot aparte"
      ]
    },
    {
      "cell_type": "code",
      "execution_count": null,
      "metadata": {
        "colab": {
          "base_uri": "https://localhost:8080/",
          "height": 540
        },
        "id": "CC_yvVuudgBR",
        "outputId": "d9f1e3e3-06b1-40cf-8780-f508277b8fbe"
      },
      "outputs": [
        {
          "ename": "NameError",
          "evalue": "name 'train' is not defined",
          "output_type": "error",
          "traceback": [
            "\u001b[0;31m---------------------------------------------------------------------------\u001b[0m",
            "\u001b[0;31mNameError\u001b[0m                                 Traceback (most recent call last)",
            "\u001b[0;32m<ipython-input-6-8873a6266610>\u001b[0m in \u001b[0;36m<cell line: 2>\u001b[0;34m()\u001b[0m\n\u001b[1;32m      2\u001b[0m \u001b[0;32mfor\u001b[0m \u001b[0mi\u001b[0m\u001b[0;34m,\u001b[0m \u001b[0mc\u001b[0m \u001b[0;32min\u001b[0m \u001b[0menumerate\u001b[0m\u001b[0;34m(\u001b[0m\u001b[0;34m[\u001b[0m\u001b[0;34m\"FAMI_ESTRATOVIVIENDA\"\u001b[0m\u001b[0;34m,\u001b[0m \u001b[0;34m'ESTU_HORASSEMANATRABAJA'\u001b[0m\u001b[0;34m,\u001b[0m \u001b[0;34m'FAMI_TIENEINTERNET'\u001b[0m\u001b[0;34m,\u001b[0m \u001b[0;34m'ESTU_PAGOMATRICULAPROPIO'\u001b[0m\u001b[0;34m]\u001b[0m\u001b[0;34m)\u001b[0m\u001b[0;34m:\u001b[0m\u001b[0;34m\u001b[0m\u001b[0;34m\u001b[0m\u001b[0m\n\u001b[1;32m      3\u001b[0m     \u001b[0mplt\u001b[0m\u001b[0;34m.\u001b[0m\u001b[0msubplot\u001b[0m\u001b[0;34m(\u001b[0m\u001b[0;36m2\u001b[0m\u001b[0;34m,\u001b[0m \u001b[0;36m4\u001b[0m\u001b[0;34m,\u001b[0m \u001b[0mi\u001b[0m \u001b[0;34m+\u001b[0m \u001b[0;36m1\u001b[0m\u001b[0;34m)\u001b[0m\u001b[0;34m\u001b[0m\u001b[0;34m\u001b[0m\u001b[0m\n\u001b[0;32m----> 4\u001b[0;31m     \u001b[0mk\u001b[0m \u001b[0;34m=\u001b[0m \u001b[0mtrain\u001b[0m\u001b[0;34m[\u001b[0m\u001b[0;34m[\u001b[0m\u001b[0mc\u001b[0m\u001b[0;34m,\u001b[0m \u001b[0;34m\"RENDIMIENTO_GLOBAL\"\u001b[0m\u001b[0;34m]\u001b[0m\u001b[0;34m]\u001b[0m\u001b[0;34m.\u001b[0m\u001b[0mdropna\u001b[0m\u001b[0;34m(\u001b[0m\u001b[0;34m)\u001b[0m\u001b[0;34m\u001b[0m\u001b[0;34m\u001b[0m\u001b[0m\n\u001b[0m\u001b[1;32m      5\u001b[0m \u001b[0;34m\u001b[0m\u001b[0m\n\u001b[1;32m      6\u001b[0m     \u001b[0;32mfor\u001b[0m \u001b[0mv\u001b[0m \u001b[0;32min\u001b[0m \u001b[0mtrain\u001b[0m\u001b[0;34m[\u001b[0m\u001b[0mc\u001b[0m\u001b[0;34m]\u001b[0m\u001b[0;34m.\u001b[0m\u001b[0mdropna\u001b[0m\u001b[0;34m(\u001b[0m\u001b[0;34m)\u001b[0m\u001b[0;34m.\u001b[0m\u001b[0munique\u001b[0m\u001b[0;34m(\u001b[0m\u001b[0;34m)\u001b[0m\u001b[0;34m:\u001b[0m\u001b[0;34m\u001b[0m\u001b[0;34m\u001b[0m\u001b[0m\n",
            "\u001b[0;31mNameError\u001b[0m: name 'train' is not defined"
          ]
        },
        {
          "data": {
            "image/png": "[encoded data removed]",
            "text/plain": [
              "<Figure size 2000x800 with 1 Axes>"
            ]
          },
          "metadata": {},
          "output_type": "display_data"
        }
      ],
      "source": [
        "plt.figure(figsize=(20,8))\n",
        "for i, c in enumerate([\"FAMI_ESTRATOVIVIENDA\", 'ESTU_HORASSEMANATRABAJA', 'FAMI_TIENEINTERNET', 'ESTU_PAGOMATRICULAPROPIO']):\n",
        "    plt.subplot(2, 4, i + 1)\n",
        "    k = train[[c, \"RENDIMIENTO_GLOBAL\"]].dropna()\n",
        "\n",
        "    for v in train[c].dropna().unique():\n",
        "        sns.kdeplot(k.RENDIMIENTO_GLOBAL[k[c] == v], label=v)\n",
        "\n",
        "    plt.title(c)\n",
        "    plt.yticks([])\n",
        "\n",
        "    plt.legend(bbox_to_anchor=(1.05, 0.5), loc='center left', borderaxespad=0.)\n",
        "\n",
        "    plt.subplot(2, 4, i + 5)\n",
        "    vc = k[c].value_counts()\n",
        "    sns.barplot(y=vc.values, x=vc.index)\n",
        "    plt.xticks(rotation=\"vertical\")\n",
        "\n",
        "plt.tight_layout()\n",
        "plt.show()"
      ]
    },
    {
      "cell_type": "code",
      "execution_count": null,
      "metadata": {
        "id": "5Cs02Ex1u7-P"
      },
      "outputs": [],
      "source": [
        "\n",
        "plt.figure(figsize=(20,8))\n",
        "for i, c in enumerate(['FAMI_EDUCACIONPADRE', 'FAMI_EDUCACIONMADRE']):\n",
        "    plt.subplot(2, 2, i + 1)\n",
        "    k = train[[c, \"RENDIMIENTO_GLOBAL\"]].dropna()\n",
        "\n",
        "    for v in train[c].dropna().unique():\n",
        "        sns.kdeplot(k.RENDIMIENTO_GLOBAL[k[c] == v], label=v)\n",
        "\n",
        "    plt.title(c)\n",
        "    plt.yticks([])\n",
        "\n",
        "    plt.legend(bbox_to_anchor=(1.05, 0.5), loc='center left', borderaxespad=0.)\n",
        "\n",
        "    plt.subplot(2, 2, i + 3)\n",
        "    vc = k[c].value_counts()\n",
        "    sns.barplot(y=vc.values, x=vc.index)\n",
        "\n",
        "plt.tight_layout()\n",
        "plt.xticks(rotation=90)\n",
        "plt.show()"
      ]
    },
    {
      "cell_type": "code",
      "execution_count": null,
      "metadata": {
        "id": "FT01iX_OwAhF"
      },
      "outputs": [],
      "source": [
        "plt.figure(figsize=(20,8))\n",
        "for i, c in enumerate(['ESTU_VALORMATRICULAUNIVERSIDAD']):\n",
        "    plt.figure(figsize=(20,13))\n",
        "    plt.subplot(2, 1, 1)\n",
        "    k = train[[c, \"RENDIMIENTO_GLOBAL\"]].dropna()\n",
        "\n",
        "    for v in train[c].dropna().unique():\n",
        "        sns.kdeplot(k.RENDIMIENTO_GLOBAL[k[c] == v], label=v)\n",
        "\n",
        "    plt.title(c)\n",
        "    plt.yticks([])\n",
        "\n",
        "    plt.legend(bbox_to_anchor=(1.05, 0.5), loc='center left', borderaxespad=0.)\n",
        "\n",
        "    plt.figure(figsize=(20,15))\n",
        "    plt.subplot(2, 1, 2)\n",
        "    vc = k[c].value_counts()\n",
        "    sns.barplot(y=vc.values, x=vc.index)\n",
        "plt.xticks(rotation=90)\n",
        "plt.tight_layout()\n",
        "plt.show()"
      ]
    },
    {
      "cell_type": "code",
      "execution_count": null,
      "metadata": {
        "id": "cZl22dMMxREG"
      },
      "outputs": [],
      "source": [
        "plt.figure(figsize=(20,8))\n",
        "\n",
        "for i, c in enumerate(['ESTU_PRGM_DEPARTAMENTO']):\n",
        "    plt.figure(figsize=(20,13))\n",
        "    plt.subplot(2, 1, 1)\n",
        "    k = train[[c, \"RENDIMIENTO_GLOBAL\"]].dropna()\n",
        "\n",
        "    for v in train[c].dropna().unique():\n",
        "        sns.kdeplot(k.RENDIMIENTO_GLOBAL[k[c] == v], label=v)\n",
        "\n",
        "    plt.title(c)\n",
        "    plt.yticks([])\n",
        "\n",
        "    plt.legend(bbox_to_anchor=(1.05, 0.5), loc='center left', borderaxespad=0.)\n",
        "\n",
        "    plt.figure(figsize=(20,15))\n",
        "    plt.subplot(2, 1, 2)\n",
        "    vc = k[c].value_counts()\n",
        "    sns.barplot(y=vc.values, x=vc.index)\n",
        "plt.xticks(rotation=90)\n",
        "plt.tight_layout()\n",
        "plt.show()"
      ]
    },
    {
      "cell_type": "markdown",
      "metadata": {
        "id": "gUEjk3h5svVp"
      },
      "source": [
        "## visualización de los datos faltantes"
      ]
    },
    {
      "cell_type": "markdown",
      "metadata": {
        "id": "Bne6vbL7VDcE"
      },
      "source": [
        "# Preprocesado"
      ]
    },
    {
      "cell_type": "code",
      "execution_count": null,
      "metadata": {
        "id": "rB4nvg2_UPVO"
      },
      "outputs": [],
      "source": [
        "def normalize_string(s):\n",
        "    return (\n",
        "        unicodedata.normalize('NFKD', s)\n",
        "        .encode('ascii', errors='ignore')\n",
        "        .decode('utf-8')\n",
        "        .lower()\n",
        "        .strip()\n",
        "        .replace('  ', ' ')\n",
        "    )"
      ]
    },
    {
      "cell_type": "code",
      "execution_count": null,
      "metadata": {
        "id": "zllws69LUgog"
      },
      "outputs": [],
      "source": [
        "def extraer_primera_palabra(texto):\n",
        "    palabra = texto.replace('3','')\n",
        "    palabra = palabra.split()[0]\n",
        "    palabra= palabra.replace('-','')\n",
        "    return palabra"
      ]
    },
    {
      "cell_type": "code",
      "execution_count": 43,
      "metadata": {
        "id": "Soq1ghyXeJvB"
      },
      "outputs": [],
      "source": [
        "mapeo_rendimiento = {\n",
        "    'bajo': 1,\n",
        "    'medio-bajo': 2,\n",
        "    'medio-alto': 3,\n",
        "    'alto': 4\n",
        "  }\n",
        "map_matricula ={\n",
        "    'Entre 5.5 millones y menos de 7 millones': 6,\n",
        "    'Entre 2.5 millones y menos de 4 millones': 4,\n",
        "    'Entre 4 millones y menos de 5.5 millones': 5,\n",
        "    'Más de 7 millones': 7,\n",
        "    'Entre 1 millón y menos de 2.5 millones': 3,\n",
        "    'Entre 500 mil y menos de 1 millón': 2,\n",
        "    'Menos de 500 mil': 1\n",
        "\n",
        "  }\n",
        "mapeo_horas = {\n",
        "    '0': 0,\n",
        "    'Menos de 10 horas': 1,\n",
        "    'Entre 11 y 20 horas': 2,\n",
        "    'Entre 21 y 30 horas': 3,\n",
        "    'Más de 30 horas': 4\n",
        "  }\n",
        "mapeo_estracto = {\n",
        "    'Estrato 3':3,\n",
        "    'Estrato 4':4,\n",
        "    'Estrato 5':5,\n",
        "    'Estrato 2':2,\n",
        "    'Estrato 1':1,\n",
        "    'Estrato 6':6,\n",
        "    'Sin Estrato':0\n",
        "  }\n",
        "\n",
        "mapeo_region = {\n",
        "     'BOGOTÁ': 'BOGOTÁ',\n",
        "    'ATLANTICO': 'Caribe',\n",
        "    'SANTANDER': 'Andina',\n",
        "    'ANTIOQUIA': 'Andina',\n",
        "    'HUILA': 'Andina',\n",
        "    'SUCRE': 'Caribe',\n",
        "    'CAQUETA': 'Amazonia',\n",
        "    'CUNDINAMARCA': 'Andina',\n",
        "    'BOLIVAR': 'Caribe',\n",
        "    'TOLIMA': 'Andina',\n",
        "    'VALLE': 'Andina',\n",
        "    'QUINDIO': 'Andina',\n",
        "    'RISARALDA': 'Andina',\n",
        "    'CORDOBA': 'Caribe',\n",
        "    'META': 'Orinoquia',\n",
        "    'LA GUAJIRA': 'Caribe',\n",
        "    'BOYACA': 'Andina',\n",
        "    'NARIÑO': 'Andina',\n",
        "    'CAUCA': 'Andina',\n",
        "    'NORTE SANTANDER': 'Andina',\n",
        "    'CESAR': 'Caribe',\n",
        "    'PUTUMAYO': 'Amazonia',\n",
        "    'CALDAS': 'Andina',\n",
        "    'MAGDALENA': 'Caribe',\n",
        "    'CHOCO': 'Pacífico',\n",
        "    'CASANARE': 'Orinoquia',\n",
        "    'ARAUCA': 'Orinoquia',\n",
        "    'GUAVIARE': 'Orinoquia',\n",
        "    'AMAZONAS': 'Amazonia',\n",
        "    'VAUPES': 'Amazonia',\n",
        "    'SAN ANDRES': 'Insular',\n",
        "    'VICHADA': 'Orinoquia'\n",
        "  }\n",
        "def preprocess(dataframe):\n",
        "  train = dataframe.copy()\n",
        "  print(\"el shape inicial fue :\")\n",
        "  print(train.shape)\n",
        "  target = 'RENDIMIENTO_GLOBAL'\n",
        "  if(target in train):\n",
        "    #train[target] = train[target].map(rmap)\n",
        "    train[target] = train[target].map(mapeo_rendimiento)\n",
        "\n",
        "  train['ESTU_PRGM_ACADEMICO'] = train['ESTU_PRGM_ACADEMICO'].apply(normalize_string)\n",
        "  train['ESTU_PRGM_ACADEMICO'] = train['ESTU_PRGM_ACADEMICO'].apply(extraer_primera_palabra)\n",
        "\n",
        "  frecuencia = train['ESTU_PRGM_ACADEMICO'].value_counts()\n",
        "  top_10 = frecuencia.nlargest(10).index\n",
        "  train['ESTU_PRGM_ACADEMICO'] = train['ESTU_PRGM_ACADEMICO'].apply(lambda x: x if x in top_10 else 'otra')\n",
        "\n",
        "  train['ESTU_PRGM_DEPARTAMENTO'] = train['ESTU_PRGM_DEPARTAMENTO'].map(mapeo_region)\n",
        "  train['FAMI_ESTRATOVIVIENDA'] = train['FAMI_ESTRATOVIVIENDA'].map(mapeo_estracto)\n",
        "  train['ESTU_HORASSEMANATRABAJA'] = train['ESTU_HORASSEMANATRABAJA'].map(mapeo_horas)\n",
        "  train[\"ESTU_VALORMATRICULAUNIVERSIDAD\"] = train[\"ESTU_VALORMATRICULAUNIVERSIDAD\"].map(map_matricula)\n",
        "\n",
        "  modaPadre = train['FAMI_EDUCACIONMADRE'].mode()[0]\n",
        "  modaMadre = train['FAMI_EDUCACIONPADRE'].mode()[0]\n",
        "  train['FAMI_EDUCACIONMADRE'].fillna(modaMadre, inplace=True)\n",
        "  train['FAMI_EDUCACIONPADRE'].fillna(modaPadre, inplace=True)\n",
        "  one_hot_encoded_p = pd.get_dummies(train['FAMI_EDUCACIONPADRE'], prefix='FAMI_EDUCACIONPADRE')\n",
        "  train = pd.concat([train, one_hot_encoded_p], axis=1)\n",
        "  train.drop('FAMI_EDUCACIONPADRE', axis=1, inplace=True)\n",
        "  one_hot_encoded_m = pd.get_dummies(train['FAMI_EDUCACIONMADRE'], prefix='FAMI_EDUCACIONMADRE')\n",
        "  train = pd.concat([train, one_hot_encoded_m], axis=1)\n",
        "  train.drop('FAMI_EDUCACIONMADRE', axis=1, inplace=True)\n",
        "  #imputar a fami tiene internet\n",
        "  modaInternet = train['FAMI_TIENEINTERNET'].mode()[0]\n",
        "  train['FAMI_TIENEINTERNET'].fillna(modaInternet, inplace=True)\n",
        "  #one hot a fami tiene internet\n",
        "  one_hot_encoded_p = pd.get_dummies(train['FAMI_TIENEINTERNET'], prefix='FAMI_TIENEINTERNET')\n",
        "  train = pd.concat([train, one_hot_encoded_p], axis=1)\n",
        "  train.drop('FAMI_TIENEINTERNET', axis=1, inplace=True)\n",
        "\n",
        "  chunk_size = 3000\n",
        "  numerical_cols = train.select_dtypes(include=[np.number]).columns.tolist()\n",
        "  num_rows = train.shape[0]\n",
        "  imputer = KNNImputer(n_neighbors=3)\n",
        "  for start in range(0, num_rows, chunk_size):\n",
        "    end = min(start + chunk_size, num_rows)\n",
        "    train.iloc[start:end, train.columns.get_indexer(numerical_cols)] = imputer.fit_transform(\n",
        "        train.iloc[start:end, train.columns.get_indexer(numerical_cols)].to_numpy())\n",
        "  #revisar como agrupar nombres de carreras\n",
        "  label_encoder = LabelEncoder()\n",
        "  categorical_columns = train.select_dtypes(include=['object']).columns\n",
        "  for col in categorical_columns:\n",
        "    train[col] = label_encoder.fit_transform(train[col])\n",
        "\n",
        "\n",
        "  print(\"el shape final fue :\" )\n",
        "  print(train.shape)\n",
        "  return train"
      ]
    },
    {
      "cell_type": "code",
      "execution_count": 40,
      "metadata": {
        "colab": {
          "base_uri": "https://localhost:8080/"
        },
        "id": "Ney5ZLZXDEb-",
        "outputId": "a35a6be6-7b2b-4cc1-aab8-b6a3172e3a23"
      },
      "outputs": [
        {
          "output_type": "stream",
          "name": "stdout",
          "text": [
            "el shape inicial fue :\n",
            "(692500, 12)\n"
          ]
        },
        {
          "output_type": "stream",
          "name": "stderr",
          "text": [
            "<ipython-input-39-35c9f6124960>:91: FutureWarning: A value is trying to be set on a copy of a DataFrame or Series through chained assignment using an inplace method.\n",
            "The behavior will change in pandas 3.0. This inplace method will never work because the intermediate object on which we are setting values always behaves as a copy.\n",
            "\n",
            "For example, when doing 'df[col].method(value, inplace=True)', try using 'df.method({col: value}, inplace=True)' or df[col] = df[col].method(value) instead, to perform the operation inplace on the original object.\n",
            "\n",
            "\n",
            "  train['FAMI_EDUCACIONMADRE'].fillna(modaMadre, inplace=True)\n",
            "<ipython-input-39-35c9f6124960>:92: FutureWarning: A value is trying to be set on a copy of a DataFrame or Series through chained assignment using an inplace method.\n",
            "The behavior will change in pandas 3.0. This inplace method will never work because the intermediate object on which we are setting values always behaves as a copy.\n",
            "\n",
            "For example, when doing 'df[col].method(value, inplace=True)', try using 'df.method({col: value}, inplace=True)' or df[col] = df[col].method(value) instead, to perform the operation inplace on the original object.\n",
            "\n",
            "\n",
            "  train['FAMI_EDUCACIONPADRE'].fillna(modaPadre, inplace=True)\n",
            "<ipython-input-39-35c9f6124960>:101: FutureWarning: A value is trying to be set on a copy of a DataFrame or Series through chained assignment using an inplace method.\n",
            "The behavior will change in pandas 3.0. This inplace method will never work because the intermediate object on which we are setting values always behaves as a copy.\n",
            "\n",
            "For example, when doing 'df[col].method(value, inplace=True)', try using 'df.method({col: value}, inplace=True)' or df[col] = df[col].method(value) instead, to perform the operation inplace on the original object.\n",
            "\n",
            "\n",
            "  train['FAMI_TIENEINTERNET'].fillna(modaInternet, inplace=True)\n"
          ]
        },
        {
          "output_type": "stream",
          "name": "stdout",
          "text": [
            "el shape final fue :\n",
            "(692500, 35)\n",
            "el shape inicial fue :\n",
            "(296786, 12)\n"
          ]
        },
        {
          "output_type": "stream",
          "name": "stderr",
          "text": [
            "<ipython-input-39-35c9f6124960>:92: FutureWarning: A value is trying to be set on a copy of a DataFrame or Series through chained assignment using an inplace method.\n",
            "The behavior will change in pandas 3.0. This inplace method will never work because the intermediate object on which we are setting values always behaves as a copy.\n",
            "\n",
            "For example, when doing 'df[col].method(value, inplace=True)', try using 'df.method({col: value}, inplace=True)' or df[col] = df[col].method(value) instead, to perform the operation inplace on the original object.\n",
            "\n",
            "\n",
            "  train['FAMI_EDUCACIONPADRE'].fillna(modaPadre, inplace=True)\n"
          ]
        },
        {
          "output_type": "stream",
          "name": "stdout",
          "text": [
            "el shape final fue :\n",
            "(296786, 35)\n"
          ]
        },
        {
          "output_type": "stream",
          "name": "stderr",
          "text": [
            "<ipython-input-39-35c9f6124960>:101: FutureWarning: A value is trying to be set on a copy of a DataFrame or Series through chained assignment using an inplace method.\n",
            "The behavior will change in pandas 3.0. This inplace method will never work because the intermediate object on which we are setting values always behaves as a copy.\n",
            "\n",
            "For example, when doing 'df[col].method(value, inplace=True)', try using 'df.method({col: value}, inplace=True)' or df[col] = df[col].method(value) instead, to perform the operation inplace on the original object.\n",
            "\n",
            "\n",
            "  train['FAMI_TIENEINTERNET'].fillna(modaInternet, inplace=True)\n"
          ]
        }
      ],
      "source": [
        "trainPreprocesado = preprocess(trainKaggle)\n",
        "testPreprocesado = preprocess(testKaggle)"
      ]
    },
    {
      "cell_type": "markdown",
      "metadata": {
        "id": "wlGZe3MR0zUU"
      },
      "source": [
        "# Modelo"
      ]
    },
    {
      "cell_type": "code",
      "execution_count": 41,
      "metadata": {
        "id": "uPwFMC1i-Ot1"
      },
      "outputs": [],
      "source": [
        "X = trainPreprocesado.drop(columns=[\"RENDIMIENTO_GLOBAL\"])\n",
        "y = trainPreprocesado[\"RENDIMIENTO_GLOBAL\"]\n",
        "X_train, X_test, y_train, y_test = train_test_split(X, y, test_size=0.3, random_state=0)\n"
      ]
    },
    {
      "cell_type": "code",
      "execution_count": 42,
      "metadata": {
        "id": "mAeFFhuJaHfk",
        "colab": {
          "base_uri": "https://localhost:8080/",
          "height": 80
        },
        "outputId": "063eac9a-734d-4eef-89bb-e0eea5351531"
      },
      "outputs": [
        {
          "output_type": "execute_result",
          "data": {
            "text/plain": [
              "RandomForestClassifier(max_depth=15, n_estimators=200)"
            ],
            "text/html": [
              "<style>#sk-container-id-6 {\n",
              "  /* Definition of color scheme common for light and dark mode */\n",
              "  --sklearn-color-text: black;\n",
              "  --sklearn-color-line: gray;\n",
              "  /* Definition of color scheme for unfitted estimators */\n",
              "  --sklearn-color-unfitted-level-0: #fff5e6;\n",
              "  --sklearn-color-unfitted-level-1: #f6e4d2;\n",
              "  --sklearn-color-unfitted-level-2: #ffe0b3;\n",
              "  --sklearn-color-unfitted-level-3: chocolate;\n",
              "  /* Definition of color scheme for fitted estimators */\n",
              "  --sklearn-color-fitted-level-0: #f0f8ff;\n",
              "  --sklearn-color-fitted-level-1: #d4ebff;\n",
              "  --sklearn-color-fitted-level-2: #b3dbfd;\n",
              "  --sklearn-color-fitted-level-3: cornflowerblue;\n",
              "\n",
              "  /* Specific color for light theme */\n",
              "  --sklearn-color-text-on-default-background: var(--sg-text-color, var(--theme-code-foreground, var(--jp-content-font-color1, black)));\n",
              "  --sklearn-color-background: var(--sg-background-color, var(--theme-background, var(--jp-layout-color0, white)));\n",
              "  --sklearn-color-border-box: var(--sg-text-color, var(--theme-code-foreground, var(--jp-content-font-color1, black)));\n",
              "  --sklearn-color-icon: #696969;\n",
              "\n",
              "  @media (prefers-color-scheme: dark) {\n",
              "    /* Redefinition of color scheme for dark theme */\n",
              "    --sklearn-color-text-on-default-background: var(--sg-text-color, var(--theme-code-foreground, var(--jp-content-font-color1, white)));\n",
              "    --sklearn-color-background: var(--sg-background-color, var(--theme-background, var(--jp-layout-color0, #111)));\n",
              "    --sklearn-color-border-box: var(--sg-text-color, var(--theme-code-foreground, var(--jp-content-font-color1, white)));\n",
              "    --sklearn-color-icon: #878787;\n",
              "  }\n",
              "}\n",
              "\n",
              "#sk-container-id-6 {\n",
              "  color: var(--sklearn-color-text);\n",
              "}\n",
              "\n",
              "#sk-container-id-6 pre {\n",
              "  padding: 0;\n",
              "}\n",
              "\n",
              "#sk-container-id-6 input.sk-hidden--visually {\n",
              "  border: 0;\n",
              "  clip: rect(1px 1px 1px 1px);\n",
              "  clip: rect(1px, 1px, 1px, 1px);\n",
              "  height: 1px;\n",
              "  margin: -1px;\n",
              "  overflow: hidden;\n",
              "  padding: 0;\n",
              "  position: absolute;\n",
              "  width: 1px;\n",
              "}\n",
              "\n",
              "#sk-container-id-6 div.sk-dashed-wrapped {\n",
              "  border: 1px dashed var(--sklearn-color-line);\n",
              "  margin: 0 0.4em 0.5em 0.4em;\n",
              "  box-sizing: border-box;\n",
              "  padding-bottom: 0.4em;\n",
              "  background-color: var(--sklearn-color-background);\n",
              "}\n",
              "\n",
              "#sk-container-id-6 div.sk-container {\n",
              "  /* jupyter's `normalize.less` sets `[hidden] { display: none; }`\n",
              "     but bootstrap.min.css set `[hidden] { display: none !important; }`\n",
              "     so we also need the `!important` here to be able to override the\n",
              "     default hidden behavior on the sphinx rendered scikit-learn.org.\n",
              "     See: https://github.com/scikit-learn/scikit-learn/issues/21755 */\n",
              "  display: inline-block !important;\n",
              "  position: relative;\n",
              "}\n",
              "\n",
              "#sk-container-id-6 div.sk-text-repr-fallback {\n",
              "  display: none;\n",
              "}\n",
              "\n",
              "div.sk-parallel-item,\n",
              "div.sk-serial,\n",
              "div.sk-item {\n",
              "  /* draw centered vertical line to link estimators */\n",
              "  background-image: linear-gradient(var(--sklearn-color-text-on-default-background), var(--sklearn-color-text-on-default-background));\n",
              "  background-size: 2px 100%;\n",
              "  background-repeat: no-repeat;\n",
              "  background-position: center center;\n",
              "}\n",
              "\n",
              "/* Parallel-specific style estimator block */\n",
              "\n",
              "#sk-container-id-6 div.sk-parallel-item::after {\n",
              "  content: \"\";\n",
              "  width: 100%;\n",
              "  border-bottom: 2px solid var(--sklearn-color-text-on-default-background);\n",
              "  flex-grow: 1;\n",
              "}\n",
              "\n",
              "#sk-container-id-6 div.sk-parallel {\n",
              "  display: flex;\n",
              "  align-items: stretch;\n",
              "  justify-content: center;\n",
              "  background-color: var(--sklearn-color-background);\n",
              "  position: relative;\n",
              "}\n",
              "\n",
              "#sk-container-id-6 div.sk-parallel-item {\n",
              "  display: flex;\n",
              "  flex-direction: column;\n",
              "}\n",
              "\n",
              "#sk-container-id-6 div.sk-parallel-item:first-child::after {\n",
              "  align-self: flex-end;\n",
              "  width: 50%;\n",
              "}\n",
              "\n",
              "#sk-container-id-6 div.sk-parallel-item:last-child::after {\n",
              "  align-self: flex-start;\n",
              "  width: 50%;\n",
              "}\n",
              "\n",
              "#sk-container-id-6 div.sk-parallel-item:only-child::after {\n",
              "  width: 0;\n",
              "}\n",
              "\n",
              "/* Serial-specific style estimator block */\n",
              "\n",
              "#sk-container-id-6 div.sk-serial {\n",
              "  display: flex;\n",
              "  flex-direction: column;\n",
              "  align-items: center;\n",
              "  background-color: var(--sklearn-color-background);\n",
              "  padding-right: 1em;\n",
              "  padding-left: 1em;\n",
              "}\n",
              "\n",
              "\n",
              "/* Toggleable style: style used for estimator/Pipeline/ColumnTransformer box that is\n",
              "clickable and can be expanded/collapsed.\n",
              "- Pipeline and ColumnTransformer use this feature and define the default style\n",
              "- Estimators will overwrite some part of the style using the `sk-estimator` class\n",
              "*/\n",
              "\n",
              "/* Pipeline and ColumnTransformer style (default) */\n",
              "\n",
              "#sk-container-id-6 div.sk-toggleable {\n",
              "  /* Default theme specific background. It is overwritten whether we have a\n",
              "  specific estimator or a Pipeline/ColumnTransformer */\n",
              "  background-color: var(--sklearn-color-background);\n",
              "}\n",
              "\n",
              "/* Toggleable label */\n",
              "#sk-container-id-6 label.sk-toggleable__label {\n",
              "  cursor: pointer;\n",
              "  display: block;\n",
              "  width: 100%;\n",
              "  margin-bottom: 0;\n",
              "  padding: 0.5em;\n",
              "  box-sizing: border-box;\n",
              "  text-align: center;\n",
              "}\n",
              "\n",
              "#sk-container-id-6 label.sk-toggleable__label-arrow:before {\n",
              "  /* Arrow on the left of the label */\n",
              "  content: \"▸\";\n",
              "  float: left;\n",
              "  margin-right: 0.25em;\n",
              "  color: var(--sklearn-color-icon);\n",
              "}\n",
              "\n",
              "#sk-container-id-6 label.sk-toggleable__label-arrow:hover:before {\n",
              "  color: var(--sklearn-color-text);\n",
              "}\n",
              "\n",
              "/* Toggleable content - dropdown */\n",
              "\n",
              "#sk-container-id-6 div.sk-toggleable__content {\n",
              "  max-height: 0;\n",
              "  max-width: 0;\n",
              "  overflow: hidden;\n",
              "  text-align: left;\n",
              "  /* unfitted */\n",
              "  background-color: var(--sklearn-color-unfitted-level-0);\n",
              "}\n",
              "\n",
              "#sk-container-id-6 div.sk-toggleable__content.fitted {\n",
              "  /* fitted */\n",
              "  background-color: var(--sklearn-color-fitted-level-0);\n",
              "}\n",
              "\n",
              "#sk-container-id-6 div.sk-toggleable__content pre {\n",
              "  margin: 0.2em;\n",
              "  border-radius: 0.25em;\n",
              "  color: var(--sklearn-color-text);\n",
              "  /* unfitted */\n",
              "  background-color: var(--sklearn-color-unfitted-level-0);\n",
              "}\n",
              "\n",
              "#sk-container-id-6 div.sk-toggleable__content.fitted pre {\n",
              "  /* unfitted */\n",
              "  background-color: var(--sklearn-color-fitted-level-0);\n",
              "}\n",
              "\n",
              "#sk-container-id-6 input.sk-toggleable__control:checked~div.sk-toggleable__content {\n",
              "  /* Expand drop-down */\n",
              "  max-height: 200px;\n",
              "  max-width: 100%;\n",
              "  overflow: auto;\n",
              "}\n",
              "\n",
              "#sk-container-id-6 input.sk-toggleable__control:checked~label.sk-toggleable__label-arrow:before {\n",
              "  content: \"▾\";\n",
              "}\n",
              "\n",
              "/* Pipeline/ColumnTransformer-specific style */\n",
              "\n",
              "#sk-container-id-6 div.sk-label input.sk-toggleable__control:checked~label.sk-toggleable__label {\n",
              "  color: var(--sklearn-color-text);\n",
              "  background-color: var(--sklearn-color-unfitted-level-2);\n",
              "}\n",
              "\n",
              "#sk-container-id-6 div.sk-label.fitted input.sk-toggleable__control:checked~label.sk-toggleable__label {\n",
              "  background-color: var(--sklearn-color-fitted-level-2);\n",
              "}\n",
              "\n",
              "/* Estimator-specific style */\n",
              "\n",
              "/* Colorize estimator box */\n",
              "#sk-container-id-6 div.sk-estimator input.sk-toggleable__control:checked~label.sk-toggleable__label {\n",
              "  /* unfitted */\n",
              "  background-color: var(--sklearn-color-unfitted-level-2);\n",
              "}\n",
              "\n",
              "#sk-container-id-6 div.sk-estimator.fitted input.sk-toggleable__control:checked~label.sk-toggleable__label {\n",
              "  /* fitted */\n",
              "  background-color: var(--sklearn-color-fitted-level-2);\n",
              "}\n",
              "\n",
              "#sk-container-id-6 div.sk-label label.sk-toggleable__label,\n",
              "#sk-container-id-6 div.sk-label label {\n",
              "  /* The background is the default theme color */\n",
              "  color: var(--sklearn-color-text-on-default-background);\n",
              "}\n",
              "\n",
              "/* On hover, darken the color of the background */\n",
              "#sk-container-id-6 div.sk-label:hover label.sk-toggleable__label {\n",
              "  color: var(--sklearn-color-text);\n",
              "  background-color: var(--sklearn-color-unfitted-level-2);\n",
              "}\n",
              "\n",
              "/* Label box, darken color on hover, fitted */\n",
              "#sk-container-id-6 div.sk-label.fitted:hover label.sk-toggleable__label.fitted {\n",
              "  color: var(--sklearn-color-text);\n",
              "  background-color: var(--sklearn-color-fitted-level-2);\n",
              "}\n",
              "\n",
              "/* Estimator label */\n",
              "\n",
              "#sk-container-id-6 div.sk-label label {\n",
              "  font-family: monospace;\n",
              "  font-weight: bold;\n",
              "  display: inline-block;\n",
              "  line-height: 1.2em;\n",
              "}\n",
              "\n",
              "#sk-container-id-6 div.sk-label-container {\n",
              "  text-align: center;\n",
              "}\n",
              "\n",
              "/* Estimator-specific */\n",
              "#sk-container-id-6 div.sk-estimator {\n",
              "  font-family: monospace;\n",
              "  border: 1px dotted var(--sklearn-color-border-box);\n",
              "  border-radius: 0.25em;\n",
              "  box-sizing: border-box;\n",
              "  margin-bottom: 0.5em;\n",
              "  /* unfitted */\n",
              "  background-color: var(--sklearn-color-unfitted-level-0);\n",
              "}\n",
              "\n",
              "#sk-container-id-6 div.sk-estimator.fitted {\n",
              "  /* fitted */\n",
              "  background-color: var(--sklearn-color-fitted-level-0);\n",
              "}\n",
              "\n",
              "/* on hover */\n",
              "#sk-container-id-6 div.sk-estimator:hover {\n",
              "  /* unfitted */\n",
              "  background-color: var(--sklearn-color-unfitted-level-2);\n",
              "}\n",
              "\n",
              "#sk-container-id-6 div.sk-estimator.fitted:hover {\n",
              "  /* fitted */\n",
              "  background-color: var(--sklearn-color-fitted-level-2);\n",
              "}\n",
              "\n",
              "/* Specification for estimator info (e.g. \"i\" and \"?\") */\n",
              "\n",
              "/* Common style for \"i\" and \"?\" */\n",
              "\n",
              ".sk-estimator-doc-link,\n",
              "a:link.sk-estimator-doc-link,\n",
              "a:visited.sk-estimator-doc-link {\n",
              "  float: right;\n",
              "  font-size: smaller;\n",
              "  line-height: 1em;\n",
              "  font-family: monospace;\n",
              "  background-color: var(--sklearn-color-background);\n",
              "  border-radius: 1em;\n",
              "  height: 1em;\n",
              "  width: 1em;\n",
              "  text-decoration: none !important;\n",
              "  margin-left: 1ex;\n",
              "  /* unfitted */\n",
              "  border: var(--sklearn-color-unfitted-level-1) 1pt solid;\n",
              "  color: var(--sklearn-color-unfitted-level-1);\n",
              "}\n",
              "\n",
              ".sk-estimator-doc-link.fitted,\n",
              "a:link.sk-estimator-doc-link.fitted,\n",
              "a:visited.sk-estimator-doc-link.fitted {\n",
              "  /* fitted */\n",
              "  border: var(--sklearn-color-fitted-level-1) 1pt solid;\n",
              "  color: var(--sklearn-color-fitted-level-1);\n",
              "}\n",
              "\n",
              "/* On hover */\n",
              "div.sk-estimator:hover .sk-estimator-doc-link:hover,\n",
              ".sk-estimator-doc-link:hover,\n",
              "div.sk-label-container:hover .sk-estimator-doc-link:hover,\n",
              ".sk-estimator-doc-link:hover {\n",
              "  /* unfitted */\n",
              "  background-color: var(--sklearn-color-unfitted-level-3);\n",
              "  color: var(--sklearn-color-background);\n",
              "  text-decoration: none;\n",
              "}\n",
              "\n",
              "div.sk-estimator.fitted:hover .sk-estimator-doc-link.fitted:hover,\n",
              ".sk-estimator-doc-link.fitted:hover,\n",
              "div.sk-label-container:hover .sk-estimator-doc-link.fitted:hover,\n",
              ".sk-estimator-doc-link.fitted:hover {\n",
              "  /* fitted */\n",
              "  background-color: var(--sklearn-color-fitted-level-3);\n",
              "  color: var(--sklearn-color-background);\n",
              "  text-decoration: none;\n",
              "}\n",
              "\n",
              "/* Span, style for the box shown on hovering the info icon */\n",
              ".sk-estimator-doc-link span {\n",
              "  display: none;\n",
              "  z-index: 9999;\n",
              "  position: relative;\n",
              "  font-weight: normal;\n",
              "  right: .2ex;\n",
              "  padding: .5ex;\n",
              "  margin: .5ex;\n",
              "  width: min-content;\n",
              "  min-width: 20ex;\n",
              "  max-width: 50ex;\n",
              "  color: var(--sklearn-color-text);\n",
              "  box-shadow: 2pt 2pt 4pt #999;\n",
              "  /* unfitted */\n",
              "  background: var(--sklearn-color-unfitted-level-0);\n",
              "  border: .5pt solid var(--sklearn-color-unfitted-level-3);\n",
              "}\n",
              "\n",
              ".sk-estimator-doc-link.fitted span {\n",
              "  /* fitted */\n",
              "  background: var(--sklearn-color-fitted-level-0);\n",
              "  border: var(--sklearn-color-fitted-level-3);\n",
              "}\n",
              "\n",
              ".sk-estimator-doc-link:hover span {\n",
              "  display: block;\n",
              "}\n",
              "\n",
              "/* \"?\"-specific style due to the `<a>` HTML tag */\n",
              "\n",
              "#sk-container-id-6 a.estimator_doc_link {\n",
              "  float: right;\n",
              "  font-size: 1rem;\n",
              "  line-height: 1em;\n",
              "  font-family: monospace;\n",
              "  background-color: var(--sklearn-color-background);\n",
              "  border-radius: 1rem;\n",
              "  height: 1rem;\n",
              "  width: 1rem;\n",
              "  text-decoration: none;\n",
              "  /* unfitted */\n",
              "  color: var(--sklearn-color-unfitted-level-1);\n",
              "  border: var(--sklearn-color-unfitted-level-1) 1pt solid;\n",
              "}\n",
              "\n",
              "#sk-container-id-6 a.estimator_doc_link.fitted {\n",
              "  /* fitted */\n",
              "  border: var(--sklearn-color-fitted-level-1) 1pt solid;\n",
              "  color: var(--sklearn-color-fitted-level-1);\n",
              "}\n",
              "\n",
              "/* On hover */\n",
              "#sk-container-id-6 a.estimator_doc_link:hover {\n",
              "  /* unfitted */\n",
              "  background-color: var(--sklearn-color-unfitted-level-3);\n",
              "  color: var(--sklearn-color-background);\n",
              "  text-decoration: none;\n",
              "}\n",
              "\n",
              "#sk-container-id-6 a.estimator_doc_link.fitted:hover {\n",
              "  /* fitted */\n",
              "  background-color: var(--sklearn-color-fitted-level-3);\n",
              "}\n",
              "</style><div id=\"sk-container-id-6\" class=\"sk-top-container\"><div class=\"sk-text-repr-fallback\"><pre>RandomForestClassifier(max_depth=15, n_estimators=200)</pre><b>In a Jupyter environment, please rerun this cell to show the HTML representation or trust the notebook. <br />On GitHub, the HTML representation is unable to render, please try loading this page with nbviewer.org.</b></div><div class=\"sk-container\" hidden><div class=\"sk-item\"><div class=\"sk-estimator fitted sk-toggleable\"><input class=\"sk-toggleable__control sk-hidden--visually\" id=\"sk-estimator-id-6\" type=\"checkbox\" checked><label for=\"sk-estimator-id-6\" class=\"sk-toggleable__label fitted sk-toggleable__label-arrow fitted\">&nbsp;&nbsp;RandomForestClassifier<a class=\"sk-estimator-doc-link fitted\" rel=\"noreferrer\" target=\"_blank\" href=\"https://scikit-learn.org/1.5/modules/generated/sklearn.ensemble.RandomForestClassifier.html\">?<span>Documentation for RandomForestClassifier</span></a><span class=\"sk-estimator-doc-link fitted\">i<span>Fitted</span></span></label><div class=\"sk-toggleable__content fitted\"><pre>RandomForestClassifier(max_depth=15, n_estimators=200)</pre></div> </div></div></div></div>"
            ]
          },
          "metadata": {},
          "execution_count": 42
        }
      ],
      "source": [
        "from sklearn.ensemble import RandomForestClassifier\n",
        "model = RandomForestClassifier(n_estimators=200, max_depth=15)\n",
        "model.fit(X_train, y_train)"
      ]
    },
    {
      "cell_type": "code",
      "execution_count": 37,
      "metadata": {
        "id": "zEkfnUjyOdX9",
        "colab": {
          "base_uri": "https://localhost:8080/"
        },
        "outputId": "7f57f2eb-451f-4f6e-d5a1-5b51462fd2c3"
      },
      "outputs": [
        {
          "output_type": "stream",
          "name": "stdout",
          "text": [
            "Porcentaje de acierto del modelo: 40.44%\n"
          ]
        }
      ],
      "source": [
        "accuracy = model.score(X_test, y_test)\n",
        "porcentaje_acierto = accuracy * 100\n",
        "print(f\"Porcentaje de acierto del modelo: {porcentaje_acierto:.2f}%\")"
      ]
    },
    {
      "cell_type": "code",
      "execution_count": 25,
      "metadata": {
        "id": "hdv6ndkYdxVO",
        "colab": {
          "base_uri": "https://localhost:8080/",
          "height": 449
        },
        "outputId": "c48ea99f-83fe-4828-a49d-d1ef963d8b50"
      },
      "outputs": [
        {
          "output_type": "display_data",
          "data": {
            "text/plain": [
              "<Figure size 640x480 with 2 Axes>"
            ],
            "image/png": "[encoded data removed]"
          },
          "metadata": {}
        }
      ],
      "source": [
        "from sklearn.metrics import confusion_matrix, ConfusionMatrixDisplay\n",
        "y_pred = model.predict(X_test)\n",
        "cm = confusion_matrix(y_test, y_pred)\n",
        "disp = ConfusionMatrixDisplay(confusion_matrix=cm, display_labels=model.classes_)\n",
        "disp.plot(cmap=plt.cm.Oranges)\n",
        "plt.show()"
      ]
    },
    {
      "cell_type": "markdown",
      "metadata": {
        "id": "b6Zzs-oKQeB_"
      },
      "source": [
        "# Envio a Kaggle"
      ]
    },
    {
      "cell_type": "code",
      "execution_count": 38,
      "metadata": {
        "colab": {
          "base_uri": "https://localhost:8080/"
        },
        "id": "6Wqn2AA5qkEV",
        "outputId": "470c60cb-d2ef-4a1a-b8a4-0ed88cbd1d77"
      },
      "outputs": [
        {
          "output_type": "stream",
          "name": "stderr",
          "text": [
            "<ipython-input-38-9b330107acd7>:13: SettingWithCopyWarning: \n",
            "A value is trying to be set on a copy of a slice from a DataFrame.\n",
            "Try using .loc[row_indexer,col_indexer] = value instead\n",
            "\n",
            "See the caveats in the documentation: https://pandas.pydata.org/pandas-docs/stable/user_guide/indexing.html#returning-a-view-versus-a-copy\n",
            "  envio['RENDIMIENTO_GLOBAL'] = envio['RENDIMIENTO_GLOBAL'].map(mapeo_rendimiento)\n"
          ]
        },
        {
          "output_type": "stream",
          "name": "stdout",
          "text": [
            "100% 3.95M/3.95M [00:00<00:00, 18.2MB/s]\n",
            "Successfully submitted to UDEA/ai4eng 20242 - Pruebas Saber Pro Colombia"
          ]
        }
      ],
      "source": [
        "testPreprocesadoToSend = testPreprocesado.copy()\n",
        "testPreprocesadoToSend.drop('Unnamed: 0', axis=1, inplace=True)\n",
        "kagglePredictions = model.predict(testPreprocesadoToSend)\n",
        "testPreprocesadoToSend['RENDIMIENTO_GLOBAL'] = kagglePredictions\n",
        "envio = testPreprocesadoToSend[['ID','RENDIMIENTO_GLOBAL']]\n",
        "\n",
        "mapeo_rendimiento = {\n",
        "    1: 'bajo',\n",
        "    2: 'medio-bajo',\n",
        "    3: 'medio-alto',\n",
        "    4: 'alto'\n",
        "}\n",
        "envio['RENDIMIENTO_GLOBAL'] = envio['RENDIMIENTO_GLOBAL'].map(mapeo_rendimiento)\n",
        "envio.to_csv('submission.csv', index=False)\n",
        "!kaggle competitions submit -c udea-ai4eng-20242 -f submission.csv -m \"agrupando por nombre de carrera, region del pais y max depth de 15\""
      ]
    }
  ],
  "metadata": {
    "colab": {
      "collapsed_sections": [
        "wfGMD3GotG9y"
      ],
      "provenance": []
    },
    "kernelspec": {
      "display_name": "p37",
      "language": "python",
      "name": "p37"
    },
    "language_info": {
      "codemirror_mode": {
        "name": "ipython",
        "version": 3
      },
      "file_extension": ".py",
      "mimetype": "text/x-python",
      "name": "python",
      "nbconvert_exporter": "python",
      "pygments_lexer": "ipython3",
      "version": "3.7.4"
    }
  },
  "nbformat": 4,
  "nbformat_minor": 0
}
